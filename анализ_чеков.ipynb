{
  "nbformat": 4,
  "nbformat_minor": 0,
  "metadata": {
    "colab": {
      "provenance": [],
      "mount_file_id": "1sS0DstxvlB03_u_mMZL1othGyOzgDKUG",
      "authorship_tag": "ABX9TyN5rwDjniUm2/LmTfBAEgbe",
      "include_colab_link": true
    },
    "kernelspec": {
      "name": "python3",
      "display_name": "Python 3"
    },
    "language_info": {
      "name": "python"
    }
  },
  "cells": [
    {
      "cell_type": "markdown",
      "metadata": {
        "id": "view-in-github",
        "colab_type": "text"
      },
      "source": [
        "<a href=\"https://colab.research.google.com/github/OMK-Kostroma/Elasticity/blob/main/%D0%B0%D0%BD%D0%B0%D0%BB%D0%B8%D0%B7_%D1%87%D0%B5%D0%BA%D0%BE%D0%B2.ipynb\" target=\"_parent\"><img src=\"https://colab.research.google.com/assets/colab-badge.svg\" alt=\"Open In Colab\"/></a>"
      ]
    },
    {
      "cell_type": "code",
      "source": [
        "from google.colab import auth\n",
        "import gspread\n",
        "from google.auth import default\n",
        "import pandas as pd\n",
        "\n",
        "class DataGetter:\n",
        "  def __init__(self):\n",
        "    self.gsheets=self.get_gsheets()\n",
        "\n",
        "\n",
        "  def get_gsheets(self):\n",
        "    auth.authenticate_user()\n",
        "    creds, _ = default()\n",
        "    gc = gspread.authorize(creds)\n",
        "    gsheets = gc.open_by_url('https://docs.google.com/spreadsheets/d/1K8kXxyLmd6IgcRtLi8QoAwoNLXvYiPkFnDE3jdJILYg/')\n",
        "    return gsheets\n",
        "\n",
        "\n",
        "  def get_raw(self):\n",
        "    sheets = self.gsheets.worksheet('raw').get_all_values()\n",
        "    raw = pd.DataFrame(sheets[1:], columns=sheets[0])\n",
        "    return raw\n",
        "\n",
        "  def get_date_chars(self):\n",
        "    sheets = self.gsheets.worksheet('date_characteristics').get_all_values()\n",
        "    date_chars = pd.DataFrame(sheets[1:], columns=sheets[0])\n",
        "    date_chars['DATE']= pd.to_datetime(date_chars['DATE'], format=\"%d.%m.%Y\").dt.date\n",
        "    return date_chars\n",
        "\n",
        "  def get_categories(self):\n",
        "    sheets = self.gsheets.worksheet('categories_map').get_all_values()\n",
        "    categories = pd.DataFrame(sheets[1:], columns=sheets[0])\n",
        "    return categories\n",
        "\n",
        "  def get_raw_data(self):\n",
        "    raw=self.get_raw()\n",
        "    date_chars=self.get_date_chars()\n",
        "    categories=self.get_categories()\n",
        "    return raw, date_chars, categories\n",
        "\n",
        "class Preparator:\n",
        "  def __init__(self,raw, date_chars, categories):\n",
        "    self.raw=raw\n",
        "    self.date_chars=date_chars\n",
        "    self.categories=categories\n",
        "\n",
        "\n",
        "  def get_base_of_full_data(self):\n",
        "    full_data=self.raw.copy()\n",
        "    full_data=full_data[['DATE','SKU', 'CHECK', 'PRICE', 'COUNT', 'REVENUE']]\n",
        "    full_data['DATE']=pd.to_datetime(full_data['DATE'], format=\"%d.%m.%Y %H:%M:%S\")\n",
        "    full_data['HOUR']=pd.to_datetime(full_data['DATE']).dt.hour\n",
        "    full_data[\"MINUTE\"]=pd.to_datetime(full_data['DATE']).dt.minute\n",
        "    full_data['DATE']=pd.to_datetime(full_data['DATE']).dt.date\n",
        "    return full_data\n",
        "\n",
        "  def get_really_full_data(self,full_data):\n",
        "    df=pd.merge(left=full_data,right=self.date_chars, on ='DATE',how='left')\n",
        "    df=pd.merge(left=df,right=self.categories,on ='SKU',how='left')\n",
        "    return df\n",
        "\n",
        "  def get_df(self):\n",
        "    full_data=self.get_base_of_full_data()\n",
        "    df=self.get_really_full_data(full_data)\n",
        "    return df"
      ],
      "metadata": {
        "id": "h7X1BNf7NJMt"
      },
      "execution_count": 2,
      "outputs": []
    },
    {
      "cell_type": "code",
      "source": [
        "getter=DataGetter()\n",
        "raw, date_chars, categories=getter.get_raw_data()\n",
        "prep=Preparator(raw, date_chars, categories)\n",
        "df=prep.get_df()"
      ],
      "metadata": {
        "id": "ICsqaOP8tBRd"
      },
      "execution_count": 3,
      "outputs": []
    },
    {
      "cell_type": "code",
      "source": [
        "import pickle\n",
        "path=r'/content/drive/MyDrive/ОМК/store_analyzing/data/full_raw_df.pkl'\n",
        "temp=df[['ID1', 'ID2', 'ID3','SKU','CHECK',\n",
        "      'DATE','HOUR', 'MINUTE',\n",
        "      'DOW', 'DOM', 'DOY', 'WOM', 'WOY', 'MOY',\n",
        "      'DAY_TYPE', 'HOLIDAY_ID', 'IS_HOLIDAY',\n",
        "      'Temperature', 'Atmospheric_pressure', 'Humidity', 'Wind Speed', 'Nebulosity', 'WEATHER',\n",
        "      'PRICE',  'REVENUE', 'COUNT']]\n",
        "with open(path,'wb') as f:\n",
        "  pickle.dump(temp,f)\n",
        "\n",
        "\n",
        "\n"
      ],
      "metadata": {
        "id": "pFSf-1vn9Ltm"
      },
      "execution_count": 5,
      "outputs": []
    },
    {
      "cell_type": "code",
      "source": [],
      "metadata": {
        "id": "AUO-f_OGp-tH"
      },
      "execution_count": null,
      "outputs": []
    }
  ]
}